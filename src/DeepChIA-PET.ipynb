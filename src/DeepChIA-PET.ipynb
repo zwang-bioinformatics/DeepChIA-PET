{
 "cells": [
  {
   "cell_type": "code",
   "execution_count": 1,
   "id": "8d8eda30-7999-4e1f-b4ae-44bb3275ed55",
   "metadata": {},
   "outputs": [],
   "source": [
    "\n",
    "import os\n",
    "import time\n",
    "import pickle\n"
   ]
  },
  {
   "cell_type": "code",
   "execution_count": 2,
   "id": "62fad4fa-9802-46c2-8d59-8a1aa159ff68",
   "metadata": {},
   "outputs": [],
   "source": [
    "\n",
    "# RNAPII GM12878\n",
    "\n",
    "chipseq_file = \"http://hgdownload.cse.ucsc.edu/goldenPath/hg19/encodeDCC/wgEncodeSydhTfbs/wgEncodeSydhTfbsGm12878Pol2IggmusSig.bigWig\"\n",
    "\n",
    "hic_file = \"https://hicfiles.s3.amazonaws.com/hiseq/gm12878/in-situ/primary.hic\"\n",
    "\n",
    "res = 10000\n",
    "\n",
    "dir_out_chipseq = \"ChIP-seq\"\n",
    "if not os.path.exists(dir_out_chipseq):\n",
    "    os.makedirs(dir_out_chipseq)\n",
    "\n",
    "dir_out_pred = \"predictions_RNAPII_GM12878\"\n",
    "if not os.path.exists(dir_out_pred):\n",
    "    os.makedirs(dir_out_pred)\n",
    "\n",
    "human = \"1\"\n"
   ]
  },
  {
   "cell_type": "code",
   "execution_count": 10,
   "id": "26d1dddd-6c42-40b9-be3f-c9b897bfff0c",
   "metadata": {},
   "outputs": [
    {
     "name": "stdout",
     "output_type": "stream",
     "text": [
      "Processing ChIP-seq done!. It takes  103.03  seconds.\n"
     ]
    }
   ],
   "source": [
    "\n",
    "# process ChIP-seq data (bigWig) and chromosome lengths\n",
    "\n",
    "\n",
    "start_time = time.time()\n",
    "\n",
    "command = \"python process_ChIP-seq.py \"+chipseq_file+\" ChIP-seq\"\n",
    "os.system(command)\n",
    "\n",
    "execution_time = round(time.time() - start_time, 2)\n",
    "print(\"Processing ChIP-seq done!. It takes \", execution_time, \" seconds.\")\n"
   ]
  },
  {
   "cell_type": "code",
   "execution_count": 3,
   "id": "668f7c5d-8f43-4369-927a-12bd0197c803",
   "metadata": {},
   "outputs": [],
   "source": [
    "\n",
    "# get chromosome ids and lengths\n",
    "\n",
    "f_chrlens = dir_out_chipseq+\"/chrlens.pkl\"\n",
    "with open(f_chrlens, 'rb') as f:\n",
    "    chrlens = pickle.load(f)\n"
   ]
  },
  {
   "cell_type": "code",
   "execution_count": 4,
   "id": "95d9b5c9-0c73-4b9c-8548-f76899678af3",
   "metadata": {},
   "outputs": [
    {
     "name": "stdout",
     "output_type": "stream",
     "text": [
      "chr1 272.77\n",
      "chr10 154.17\n",
      "chr11 135.85\n",
      "chr12 130.36\n",
      "chr13 103.24\n",
      "chr14 114.85\n",
      "chr15 82.74\n",
      "chr16 119.4\n",
      "chr17 83.5\n",
      "chr18 79.59\n",
      "chr19 86.14\n",
      "chr2 273.77\n",
      "chr20 73.35\n",
      "chr21 42.64\n",
      "chr22 77.26\n",
      "chr3 219.78\n",
      "chr4 205.91\n",
      "chr5 203.1\n",
      "chr6 166.52\n",
      "chr7 161.5\n",
      "chr8 160.79\n",
      "chr9 147.39\n",
      "chrX 153.21\n"
     ]
    }
   ],
   "source": [
    "\n",
    "# predict each chromosome\n",
    "\n",
    "chrs_skip = [\"chrY\",\"chrM\"]\n",
    "\n",
    "for chr_id, chr_len in chrlens.items():\n",
    "    if chr_id in chrs_skip:\n",
    "        continue\n",
    "    \n",
    "    start_time = time.time()\n",
    "    \n",
    "    command = \"python DeepChIA-PET.py \"+hic_file+\" \"+dir_out_chipseq+\" \"+dir_out_pred+\" \"+human+\" \"+chr_id+\" &> /dev/null\"\n",
    "    os.system(command)\n",
    "    \n",
    "    execution_time = round(time.time() - start_time, 2)\n",
    "    print(chr_id, execution_time)\n"
   ]
  },
  {
   "cell_type": "code",
   "execution_count": null,
   "id": "c6efff7e-fe4d-4222-93bc-511260d0a42f",
   "metadata": {},
   "outputs": [],
   "source": []
  }
 ],
 "metadata": {
  "kernelspec": {
   "display_name": "Python 3 (ipykernel)",
   "language": "python",
   "name": "python3"
  },
  "language_info": {
   "codemirror_mode": {
    "name": "ipython",
    "version": 3
   },
   "file_extension": ".py",
   "mimetype": "text/x-python",
   "name": "python",
   "nbconvert_exporter": "python",
   "pygments_lexer": "ipython3",
   "version": "3.9.10"
  }
 },
 "nbformat": 4,
 "nbformat_minor": 5
}
